{
 "cells": [
  {
   "cell_type": "markdown",
   "id": "intellectual-visit",
   "metadata": {},
   "source": [
    "This program gets the real time stock data from NYSE using the package."
   ]
  },
  {
   "cell_type": "code",
   "execution_count": 6,
   "id": "burning-command",
   "metadata": {},
   "outputs": [],
   "source": [
    "import requests\n",
    "import json\n",
    "\n",
    "# Get the consumer key\n",
    "td_consumer_key='AOJCYEWHWZMDJCAX6KRSSLCAGOTXV8TT'\n",
    "\n",
    "# Get quotes TD Ameritrade API\n",
    "\n",
    "endpoint = 'https://api.tdameritrade.com/v1/marketdata/{stock_ticker}/quotes?'\n",
    "\n",
    "# GetAPI for the stock \"MSFT\"\n",
    "full_url = endpoint.format(stock_ticker='MSFT')\n",
    "\n",
    "page = requests.get(url=full_url,\n",
    "                    params={'apikey' : td_consumer_key})\n",
    "\n",
    "content = json.loads(page.content)"
   ]
  },
  {
   "cell_type": "code",
   "execution_count": 7,
   "id": "numerous-plate",
   "metadata": {},
   "outputs": [
    {
     "data": {
      "text/plain": [
       "{'MSFT': {'assetType': 'EQUITY',\n",
       "  'assetMainType': 'EQUITY',\n",
       "  'cusip': '594918104',\n",
       "  'symbol': 'MSFT',\n",
       "  'description': 'Microsoft Corporation - Common Stock',\n",
       "  'bidPrice': 226.56,\n",
       "  'bidSize': 300,\n",
       "  'bidId': 'P',\n",
       "  'askPrice': 226.7,\n",
       "  'askSize': 5900,\n",
       "  'askId': 'P',\n",
       "  'lastPrice': 226.7,\n",
       "  'lastSize': 0,\n",
       "  'lastId': 'P',\n",
       "  'openPrice': 227.08,\n",
       "  'highPrice': 230.07,\n",
       "  'lowPrice': 225.8,\n",
       "  'bidTick': ' ',\n",
       "  'closePrice': 224.97,\n",
       "  'netChange': 1.73,\n",
       "  'totalVolume': 30172663,\n",
       "  'quoteTimeInLong': 1611363596074,\n",
       "  'tradeTimeInLong': 1611363596128,\n",
       "  'mark': 225.95,\n",
       "  'exchange': 'q',\n",
       "  'exchangeName': 'NASD',\n",
       "  'marginable': True,\n",
       "  'shortable': True,\n",
       "  'volatility': 0.0131,\n",
       "  'digits': 4,\n",
       "  '52WkHigh': 232.86,\n",
       "  '52WkLow': 132.52,\n",
       "  'nAV': 0.0,\n",
       "  'peRatio': 36.1929,\n",
       "  'divAmount': 2.24,\n",
       "  'divYield': 1.0,\n",
       "  'divDate': '2021-02-17 00:00:00.000',\n",
       "  'securityStatus': 'Normal',\n",
       "  'regularMarketLastPrice': 225.95,\n",
       "  'regularMarketLastSize': 30328,\n",
       "  'regularMarketNetChange': 0.98,\n",
       "  'regularMarketTradeTimeInLong': 1611349200642,\n",
       "  'netPercentChangeInDouble': 0.769,\n",
       "  'markChangeInDouble': 0.98,\n",
       "  'markPercentChangeInDouble': 0.4356,\n",
       "  'regularMarketPercentChangeInDouble': 0.4356,\n",
       "  'delayed': True}}"
      ]
     },
     "execution_count": 7,
     "metadata": {},
     "output_type": "execute_result"
    }
   ],
   "source": [
    "content"
   ]
  },
  {
   "cell_type": "code",
   "execution_count": null,
   "id": "iraqi-institution",
   "metadata": {},
   "outputs": [],
   "source": []
  }
 ],
 "metadata": {
  "kernelspec": {
   "display_name": "Python 3",
   "language": "python",
   "name": "python3"
  },
  "language_info": {
   "codemirror_mode": {
    "name": "ipython",
    "version": 3
   },
   "file_extension": ".py",
   "mimetype": "text/x-python",
   "name": "python",
   "nbconvert_exporter": "python",
   "pygments_lexer": "ipython3",
   "version": "3.8.5"
  }
 },
 "nbformat": 4,
 "nbformat_minor": 5
}
